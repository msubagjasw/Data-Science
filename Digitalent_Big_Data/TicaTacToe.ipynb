{
 "cells": [
  {
   "cell_type": "code",
   "execution_count": 1,
   "id": "67de2c40",
   "metadata": {},
   "outputs": [],
   "source": [
    "#!pip install numpy\n",
    "import numpy as np"
   ]
  },
  {
   "cell_type": "code",
   "execution_count": 2,
   "id": "e2a15c46",
   "metadata": {},
   "outputs": [
    {
     "name": "stdout",
     "output_type": "stream",
     "text": [
      "Help on built-in function choice:\n",
      "\n",
      "choice(...) method of numpy.random.mtrand.RandomState instance\n",
      "    choice(a, size=None, replace=True, p=None)\n",
      "    \n",
      "    Generates a random sample from a given 1-D array\n",
      "    \n",
      "    .. versionadded:: 1.7.0\n",
      "    \n",
      "    .. note::\n",
      "        New code should use the ``choice`` method of a ``default_rng()``\n",
      "        instance instead; please see the :ref:`random-quick-start`.\n",
      "    \n",
      "    Parameters\n",
      "    ----------\n",
      "    a : 1-D array-like or int\n",
      "        If an ndarray, a random sample is generated from its elements.\n",
      "        If an int, the random sample is generated as if a were np.arange(a)\n",
      "    size : int or tuple of ints, optional\n",
      "        Output shape.  If the given shape is, e.g., ``(m, n, k)``, then\n",
      "        ``m * n * k`` samples are drawn.  Default is None, in which case a\n",
      "        single value is returned.\n",
      "    replace : boolean, optional\n",
      "        Whether the sample is with or without replacement\n",
      "    p : 1-D array-like, optional\n",
      "        The probabilities associated with each entry in a.\n",
      "        If not given the sample assumes a uniform distribution over all\n",
      "        entries in a.\n",
      "    \n",
      "    Returns\n",
      "    -------\n",
      "    samples : single item or ndarray\n",
      "        The generated random samples\n",
      "    \n",
      "    Raises\n",
      "    ------\n",
      "    ValueError\n",
      "        If a is an int and less than zero, if a or p are not 1-dimensional,\n",
      "        if a is an array-like of size 0, if p is not a vector of\n",
      "        probabilities, if a and p have different lengths, or if\n",
      "        replace=False and the sample size is greater than the population\n",
      "        size\n",
      "    \n",
      "    See Also\n",
      "    --------\n",
      "    randint, shuffle, permutation\n",
      "    Generator.choice: which should be used in new code\n",
      "    \n",
      "    Notes\n",
      "    -----\n",
      "    Sampling random rows from a 2-D array is not possible with this function,\n",
      "    but is possible with `Generator.choice` through its ``axis`` keyword.\n",
      "    \n",
      "    Examples\n",
      "    --------\n",
      "    Generate a uniform random sample from np.arange(5) of size 3:\n",
      "    \n",
      "    >>> np.random.choice(5, 3)\n",
      "    array([0, 3, 4]) # random\n",
      "    >>> #This is equivalent to np.random.randint(0,5,3)\n",
      "    \n",
      "    Generate a non-uniform random sample from np.arange(5) of size 3:\n",
      "    \n",
      "    >>> np.random.choice(5, 3, p=[0.1, 0, 0.3, 0.6, 0])\n",
      "    array([3, 3, 0]) # random\n",
      "    \n",
      "    Generate a uniform random sample from np.arange(5) of size 3 without\n",
      "    replacement:\n",
      "    \n",
      "    >>> np.random.choice(5, 3, replace=False)\n",
      "    array([3,1,0]) # random\n",
      "    >>> #This is equivalent to np.random.permutation(np.arange(5))[:3]\n",
      "    \n",
      "    Generate a non-uniform random sample from np.arange(5) of size\n",
      "    3 without replacement:\n",
      "    \n",
      "    >>> np.random.choice(5, 3, replace=False, p=[0.1, 0, 0.3, 0.6, 0])\n",
      "    array([2, 3, 0]) # random\n",
      "    \n",
      "    Any of the above can be repeated with an arbitrary array-like\n",
      "    instead of just integers. For instance:\n",
      "    \n",
      "    >>> aa_milne_arr = ['pooh', 'rabbit', 'piglet', 'Christopher']\n",
      "    >>> np.random.choice(aa_milne_arr, 5, p=[0.5, 0.1, 0.1, 0.3])\n",
      "    array(['pooh', 'pooh', 'pooh', 'Christopher', 'piglet'], # random\n",
      "          dtype='<U11')\n",
      "\n"
     ]
    }
   ],
   "source": [
    "help(np.random.choice)"
   ]
  },
  {
   "cell_type": "code",
   "execution_count": 40,
   "id": "da150a83",
   "metadata": {},
   "outputs": [
    {
     "data": {
      "text/plain": [
       "array(['rabbit'], dtype='<U11')"
      ]
     },
     "execution_count": 40,
     "metadata": {},
     "output_type": "execute_result"
    }
   ],
   "source": [
    "aa_milne_arr = ['pooh', 'rabbit', 'piglet', 'Christopher']\n",
    "np.random.choice(aa_milne_arr, 1)"
   ]
  },
  {
   "cell_type": "code",
   "execution_count": 38,
   "id": "84f62274",
   "metadata": {},
   "outputs": [
    {
     "data": {
      "text/plain": [
       "array(['Christopher'], dtype='<U11')"
      ]
     },
     "execution_count": 38,
     "metadata": {},
     "output_type": "execute_result"
    }
   ],
   "source": [
    "np.random.choice(aa_milne_arr, 1)"
   ]
  },
  {
   "cell_type": "code",
   "execution_count": 39,
   "id": "c49087c6",
   "metadata": {},
   "outputs": [],
   "source": [
    "board = np.array([['1', '2', '3'], \n",
    "                 ['4', 'X', '6'],\n",
    "                ['7', '8', '9']])\n",
    "avaible_row = [1, 2, 3, 4, 'Not Avaible', 6, 7, 8, 9]"
   ]
  },
  {
   "cell_type": "code",
   "execution_count": 10,
   "id": "7991b996",
   "metadata": {},
   "outputs": [],
   "source": [
    "#def make_list_of_free_fields(board):\n",
    "    # The function browses the board and builds a list of all the free squares; \n",
    "    # the list consists of tuples, while each tuple is a pair of row and column numbers.\n",
    "\n",
    "def display_board(board):\n",
    "    # The function accepts one parameter containing the board's current status\n",
    "    # and prints it out to the console.\n",
    "    print('+-------+-------+-------+')\n",
    "    print('|', ' ', ' ', ' ', '|', ' ', ' ', ' ', '|', ' ', ' ', ' ', '|',)\n",
    "    print('|', ' ', board[0][0], ' ', '|', ' ', board[0][1], ' ', '|', ' ', board[0][2], ' ', '|' )\n",
    "    print('|', ' ', ' ', ' ', '|', ' ', ' ', ' ', '|', ' ', ' ', ' ', '|',)\n",
    "    print('+-------+-------+-------+')\n",
    "\n",
    "    print('|', ' ', ' ', ' ', '|', ' ', ' ', ' ', '|', ' ', ' ', ' ', '|',)\n",
    "    print('|', ' ', board[1][0], ' ', '|', ' ', board[1][1], ' ', '|', ' ', board[1][2], ' ', '|' )\n",
    "    print('|', ' ', ' ', ' ', '|', ' ', ' ', ' ', '|', ' ', ' ', ' ', '|',)\n",
    "    print('+-------+-------+-------+')\n",
    "    \n",
    "    print('|', ' ', ' ', ' ', '|', ' ', ' ', ' ', '|', ' ', ' ', ' ', '|',)\n",
    "    print('|', ' ', board[2][0], ' ', '|', ' ', board[2][1], ' ', '|', ' ', board[2][2], ' ', '|' )\n",
    "    print('|', ' ', ' ', ' ', '|', ' ', ' ', ' ', '|', ' ', ' ', ' ', '|',)\n",
    "    print('+-------+-------+-------+')    \n",
    "    pass"
   ]
  },
  {
   "cell_type": "code",
   "execution_count": 36,
   "id": "7d99f1be",
   "metadata": {},
   "outputs": [
    {
     "name": "stdout",
     "output_type": "stream",
     "text": [
      "+-------+-------+-------+\n",
      "|       |       |       |\n",
      "|   O   |   O   |   O   |\n",
      "|       |       |       |\n",
      "+-------+-------+-------+\n",
      "|       |       |       |\n",
      "|   X   |   X   |   X   |\n",
      "|       |       |       |\n",
      "+-------+-------+-------+\n",
      "|       |       |       |\n",
      "|   7   |   X   |   9   |\n",
      "|       |       |       |\n",
      "+-------+-------+-------+\n"
     ]
    }
   ],
   "source": [
    "display_board(board)"
   ]
  },
  {
   "cell_type": "code",
   "execution_count": 41,
   "id": "ec7df977",
   "metadata": {},
   "outputs": [],
   "source": [
    "#avaible_row = [1, 2, 3, 4, 'Not Avaible', 6, 7, 8, 9]\n",
    "def enter_move():\n",
    "    #user movement\n",
    "    user_input = int(input('Enter your move : '))\n",
    "    while user_input not in avaible_row :\n",
    "        print('Your input already choosen, please select other ...')\n",
    "        user_input = int(input('Enter your move : '))\n",
    "    else :\n",
    "        if user_input == 1:\n",
    "            board[0][0] = 'O'\n",
    "            avaible_row[0] = 'Not Avaible'\n",
    "    \n",
    "        elif user_input == 2:\n",
    "            board[0][1] = 'O'\n",
    "            avaible_row[1] = 'Not Avaible'\n",
    "    \n",
    "        elif user_input == 3:\n",
    "            board[0][2] = 'O'\n",
    "            avaible_row[2] = 'Not Avaible'\n",
    "    \n",
    "        elif user_input == 4:\n",
    "            board[1][0] = 'O'\n",
    "            avaible_row[3] = 'Not Avaible'\n",
    "    \n",
    "        elif user_input == 5:\n",
    "            board[1][1] = 'O'\n",
    "            avaible_row[4] = 'Not Avaible'\n",
    "    \n",
    "        elif user_input == 6:\n",
    "            board[1][2] = 'O'\n",
    "            avaible_row[5] = 'Not Avaible'\n",
    "\n",
    "        elif user_input == 7:\n",
    "            board[2][0] = 'O'\n",
    "            avaible_row[6] = 'Not Avaible'\n",
    "    \n",
    "        elif user_input == 8:\n",
    "            board[2][1] = 'O'\n",
    "            avaible_row[7] = 'Not Avaible'\n",
    "    \n",
    "        elif user_input == 9:\n",
    "            board[2][2] = 'O'\n",
    "            avaible_row[8] = 'Not Avaible'\n",
    "        else :\n",
    "            print('error')\n",
    "\n",
    "        #calling display baord_function        \n",
    "        display_board(board)\n",
    "        print(avaible_row)\n",
    "    \n",
    "        #cpu_movement\n",
    "        c = np.random.choice(avaible_row)\n",
    "        while c == 'Not Avaible':\n",
    "            c = np.random.choice(avaible_row)\n",
    "\n",
    "        else :\n",
    "            computer_move = 0\n",
    "            for res_random in c :\n",
    "                print(res_random)\n",
    "                computer_move = computer_move + int(res_random) \n",
    "            if computer_move == 1:\n",
    "                board[0][0] = 'X'\n",
    "                avaible_row[0] = 'Not Avaible'\n",
    "    \n",
    "            elif computer_move == 2:\n",
    "                board[0][1] = 'X'\n",
    "                avaible_row[1] = 'Not Avaible'\n",
    "    \n",
    "            elif computer_move == 3:\n",
    "                board[0][2] = 'X'\n",
    "                avaible_row[2] = 'Not Avaible'\n",
    "    \n",
    "            elif computer_move == 4:\n",
    "                board[1][0] = 'X'\n",
    "                avaible_row[3] = 'Not Avaible'\n",
    "    \n",
    "            elif computer_move == 5:\n",
    "                board[1][1] = 'X'\n",
    "                avaible_row[4] = 'Not Avaible'\n",
    "    \n",
    "            elif computer_move == 6:\n",
    "                board[1][2] = 'X'\n",
    "                avaible_row[5] = 'Not Avaible'\n",
    "\n",
    "            elif computer_move == 7:\n",
    "                board[2][0] = 'X'\n",
    "                avaible_row[6] = 'Not Avaible'\n",
    "    \n",
    "            elif computer_move == 8:\n",
    "                board[2][1] = 'X'\n",
    "                avaible_row[7] = 'Not Avaible'\n",
    "    \n",
    "            elif computer_move == 9:\n",
    "                board[2][2] = 'X'\n",
    "                avaible_row[8] = 'Not Avaible'\n",
    "            \n",
    "        #calling display baord_function \n",
    "        display_board(board)\n",
    "        print(avaible_row)"
   ]
  },
  {
   "cell_type": "code",
   "execution_count": 42,
   "id": "03f77dae",
   "metadata": {},
   "outputs": [
    {
     "name": "stdout",
     "output_type": "stream",
     "text": [
      "Enter your move : 1\n",
      "+-------+-------+-------+\n",
      "|       |       |       |\n",
      "|   O   |   2   |   3   |\n",
      "|       |       |       |\n",
      "+-------+-------+-------+\n",
      "|       |       |       |\n",
      "|   4   |   X   |   6   |\n",
      "|       |       |       |\n",
      "+-------+-------+-------+\n",
      "|       |       |       |\n",
      "|   7   |   8   |   9   |\n",
      "|       |       |       |\n",
      "+-------+-------+-------+\n",
      "['Not Avaible', 2, 3, 4, 'Not Avaible', 6, 7, 8, 9]\n",
      "6\n",
      "+-------+-------+-------+\n",
      "|       |       |       |\n",
      "|   O   |   2   |   3   |\n",
      "|       |       |       |\n",
      "+-------+-------+-------+\n",
      "|       |       |       |\n",
      "|   4   |   X   |   X   |\n",
      "|       |       |       |\n",
      "+-------+-------+-------+\n",
      "|       |       |       |\n",
      "|   7   |   8   |   9   |\n",
      "|       |       |       |\n",
      "+-------+-------+-------+\n",
      "['Not Avaible', 2, 3, 4, 'Not Avaible', 'Not Avaible', 7, 8, 9]\n"
     ]
    }
   ],
   "source": [
    "enter_move()"
   ]
  },
  {
   "cell_type": "code",
   "execution_count": 29,
   "id": "65355a9e",
   "metadata": {},
   "outputs": [],
   "source": [
    "class check_win():\n",
    "    def __init__(self, board):\n",
    "        self.board = board\n",
    "        self.cpu_win = np.array(['X', 'X', 'X'])\n",
    "        self.you_win = np.array(['O', 'O', 'O'])\n",
    "        \n",
    "    def horizontal_check(self) :\n",
    "        for elm_h in self.board :\n",
    "            if sum(self.cpu_win == elm_h) == 3:\n",
    "                return 11\n",
    "            elif sum(self.you_win == elm_h) == 3:\n",
    "                return 10\n",
    "            else :\n",
    "                return 0\n",
    "            \n",
    "    def vertical_check(self):\n",
    "        for elm_v in self.board.transpose() :\n",
    "            if sum(self.cpu_win == elm_v) == 3:\n",
    "                return 11\n",
    "            elif sum(self.you_win == elm_v) == 3:\n",
    "                return 10\n",
    "            else :\n",
    "                return 0\n",
    "    \n",
    "    def all_return(self):\n",
    "        return self.horizontal_check() + self.vertical_check()\n",
    "\n",
    "#vertical_check\n"
   ]
  },
  {
   "cell_type": "code",
   "execution_count": 17,
   "id": "7ae206f7",
   "metadata": {},
   "outputs": [
    {
     "data": {
      "text/plain": [
       "0"
      ]
     },
     "execution_count": 17,
     "metadata": {},
     "output_type": "execute_result"
    }
   ],
   "source": [
    "check_win(board).all_return()"
   ]
  },
  {
   "cell_type": "code",
   "execution_count": 34,
   "id": "afb01130",
   "metadata": {},
   "outputs": [
    {
     "data": {
      "text/plain": [
       "array([['O', 'O', 'O'],\n",
       "       ['X', 'X', 'X'],\n",
       "       ['7', 'X', '9']], dtype='<U1')"
      ]
     },
     "execution_count": 34,
     "metadata": {},
     "output_type": "execute_result"
    }
   ],
   "source": [
    "board"
   ]
  },
  {
   "cell_type": "code",
   "execution_count": 35,
   "id": "0999eae8",
   "metadata": {},
   "outputs": [
    {
     "data": {
      "text/plain": [
       "array([['O', 'X', '7'],\n",
       "       ['O', 'X', 'X'],\n",
       "       ['O', 'X', '9']], dtype='<U1')"
      ]
     },
     "execution_count": 35,
     "metadata": {},
     "output_type": "execute_result"
    }
   ],
   "source": [
    "board.transpose()"
   ]
  },
  {
   "cell_type": "code",
   "execution_count": 12,
   "id": "e438d698",
   "metadata": {},
   "outputs": [
    {
     "data": {
      "text/plain": [
       "3"
      ]
     },
     "execution_count": 12,
     "metadata": {},
     "output_type": "execute_result"
    }
   ],
   "source": [
    "True + True + True"
   ]
  },
  {
   "cell_type": "code",
   "execution_count": 30,
   "id": "8450c7c2",
   "metadata": {},
   "outputs": [],
   "source": [
    "def game_start():\n",
    "    draw = draw = ['Not Avaible', 'Not Avaible', 'Not Avaible', 'Not Avaible', 'Not Avaible', 'Not Avaible', 'Not Avaible', 'Not Avaible', 'Not Avaible']\n",
    "    while avaible_row != draw :\n",
    "        enter_move()\n",
    "        while check_win(board).all_return() != 0 :\n",
    "            if check_win(board).all_return() == 11 : \n",
    "                print('CPU Win')\n",
    "                break\n",
    "            elif check_win(board).all_return() == 10 :\n",
    "                print('you Win')\n",
    "                break\n",
    "            elif avaible_row == draw :\n",
    "                print('Draw')\n",
    "                break\n",
    "        \n",
    "            "
   ]
  },
  {
   "cell_type": "code",
   "execution_count": 44,
   "id": "ff6c0f1f",
   "metadata": {},
   "outputs": [
    {
     "name": "stdout",
     "output_type": "stream",
     "text": [
      "Enter your move : 1\n",
      "+-------+-------+-------+\n",
      "|       |       |       |\n",
      "|   O   |   2   |   3   |\n",
      "|       |       |       |\n",
      "+-------+-------+-------+\n",
      "|       |       |       |\n",
      "|   4   |   X   |   6   |\n",
      "|       |       |       |\n",
      "+-------+-------+-------+\n",
      "|       |       |       |\n",
      "|   7   |   8   |   9   |\n",
      "|       |       |       |\n",
      "+-------+-------+-------+\n",
      "['Not Avaible', 2, 3, 4, 'Not Avaible', 6, 7, 8, 9]\n",
      "6\n",
      "+-------+-------+-------+\n",
      "|       |       |       |\n",
      "|   O   |   2   |   3   |\n",
      "|       |       |       |\n",
      "+-------+-------+-------+\n",
      "|       |       |       |\n",
      "|   4   |   X   |   X   |\n",
      "|       |       |       |\n",
      "+-------+-------+-------+\n",
      "|       |       |       |\n",
      "|   7   |   8   |   9   |\n",
      "|       |       |       |\n",
      "+-------+-------+-------+\n",
      "['Not Avaible', 2, 3, 4, 'Not Avaible', 'Not Avaible', 7, 8, 9]\n",
      "Enter your move : 2\n",
      "+-------+-------+-------+\n",
      "|       |       |       |\n",
      "|   O   |   O   |   3   |\n",
      "|       |       |       |\n",
      "+-------+-------+-------+\n",
      "|       |       |       |\n",
      "|   4   |   X   |   X   |\n",
      "|       |       |       |\n",
      "+-------+-------+-------+\n",
      "|       |       |       |\n",
      "|   7   |   8   |   9   |\n",
      "|       |       |       |\n",
      "+-------+-------+-------+\n",
      "['Not Avaible', 'Not Avaible', 3, 4, 'Not Avaible', 'Not Avaible', 7, 8, 9]\n",
      "9\n",
      "+-------+-------+-------+\n",
      "|       |       |       |\n",
      "|   O   |   O   |   3   |\n",
      "|       |       |       |\n",
      "+-------+-------+-------+\n",
      "|       |       |       |\n",
      "|   4   |   X   |   X   |\n",
      "|       |       |       |\n",
      "+-------+-------+-------+\n",
      "|       |       |       |\n",
      "|   7   |   8   |   X   |\n",
      "|       |       |       |\n",
      "+-------+-------+-------+\n",
      "['Not Avaible', 'Not Avaible', 3, 4, 'Not Avaible', 'Not Avaible', 7, 8, 'Not Avaible']\n",
      "Enter your move : 3\n",
      "+-------+-------+-------+\n",
      "|       |       |       |\n",
      "|   O   |   O   |   O   |\n",
      "|       |       |       |\n",
      "+-------+-------+-------+\n",
      "|       |       |       |\n",
      "|   4   |   X   |   X   |\n",
      "|       |       |       |\n",
      "+-------+-------+-------+\n",
      "|       |       |       |\n",
      "|   7   |   8   |   X   |\n",
      "|       |       |       |\n",
      "+-------+-------+-------+\n",
      "['Not Avaible', 'Not Avaible', 'Not Avaible', 4, 'Not Avaible', 'Not Avaible', 7, 8, 'Not Avaible']\n",
      "4\n",
      "+-------+-------+-------+\n",
      "|       |       |       |\n",
      "|   O   |   O   |   O   |\n",
      "|       |       |       |\n",
      "+-------+-------+-------+\n",
      "|       |       |       |\n",
      "|   X   |   X   |   X   |\n",
      "|       |       |       |\n",
      "+-------+-------+-------+\n",
      "|       |       |       |\n",
      "|   7   |   8   |   X   |\n",
      "|       |       |       |\n",
      "+-------+-------+-------+\n",
      "['Not Avaible', 'Not Avaible', 'Not Avaible', 'Not Avaible', 'Not Avaible', 'Not Avaible', 7, 8, 'Not Avaible']\n",
      "you Win\n"
     ]
    },
    {
     "ename": "KeyboardInterrupt",
     "evalue": "Interrupted by user",
     "output_type": "error",
     "traceback": [
      "\u001b[1;31m---------------------------------------------------------------------------\u001b[0m",
      "\u001b[1;31mKeyboardInterrupt\u001b[0m                         Traceback (most recent call last)",
      "\u001b[1;32m<ipython-input-44-456643555ea0>\u001b[0m in \u001b[0;36m<module>\u001b[1;34m\u001b[0m\n\u001b[1;32m----> 1\u001b[1;33m \u001b[0mgame_start\u001b[0m\u001b[1;33m(\u001b[0m\u001b[1;33m)\u001b[0m\u001b[1;33m\u001b[0m\u001b[1;33m\u001b[0m\u001b[0m\n\u001b[0m",
      "\u001b[1;32m<ipython-input-30-8fe9c796169f>\u001b[0m in \u001b[0;36mgame_start\u001b[1;34m()\u001b[0m\n\u001b[0;32m      2\u001b[0m     \u001b[0mdraw\u001b[0m \u001b[1;33m=\u001b[0m \u001b[0mdraw\u001b[0m \u001b[1;33m=\u001b[0m \u001b[1;33m[\u001b[0m\u001b[1;34m'Not Avaible'\u001b[0m\u001b[1;33m,\u001b[0m \u001b[1;34m'Not Avaible'\u001b[0m\u001b[1;33m,\u001b[0m \u001b[1;34m'Not Avaible'\u001b[0m\u001b[1;33m,\u001b[0m \u001b[1;34m'Not Avaible'\u001b[0m\u001b[1;33m,\u001b[0m \u001b[1;34m'Not Avaible'\u001b[0m\u001b[1;33m,\u001b[0m \u001b[1;34m'Not Avaible'\u001b[0m\u001b[1;33m,\u001b[0m \u001b[1;34m'Not Avaible'\u001b[0m\u001b[1;33m,\u001b[0m \u001b[1;34m'Not Avaible'\u001b[0m\u001b[1;33m,\u001b[0m \u001b[1;34m'Not Avaible'\u001b[0m\u001b[1;33m]\u001b[0m\u001b[1;33m\u001b[0m\u001b[1;33m\u001b[0m\u001b[0m\n\u001b[0;32m      3\u001b[0m     \u001b[1;32mwhile\u001b[0m \u001b[0mavaible_row\u001b[0m \u001b[1;33m!=\u001b[0m \u001b[0mdraw\u001b[0m \u001b[1;33m:\u001b[0m\u001b[1;33m\u001b[0m\u001b[1;33m\u001b[0m\u001b[0m\n\u001b[1;32m----> 4\u001b[1;33m         \u001b[0menter_move\u001b[0m\u001b[1;33m(\u001b[0m\u001b[1;33m)\u001b[0m\u001b[1;33m\u001b[0m\u001b[1;33m\u001b[0m\u001b[0m\n\u001b[0m\u001b[0;32m      5\u001b[0m         \u001b[1;32mwhile\u001b[0m \u001b[0mcheck_win\u001b[0m\u001b[1;33m(\u001b[0m\u001b[0mboard\u001b[0m\u001b[1;33m)\u001b[0m\u001b[1;33m.\u001b[0m\u001b[0mall_return\u001b[0m\u001b[1;33m(\u001b[0m\u001b[1;33m)\u001b[0m \u001b[1;33m!=\u001b[0m \u001b[1;36m0\u001b[0m \u001b[1;33m:\u001b[0m\u001b[1;33m\u001b[0m\u001b[1;33m\u001b[0m\u001b[0m\n\u001b[0;32m      6\u001b[0m             \u001b[1;32mif\u001b[0m \u001b[0mcheck_win\u001b[0m\u001b[1;33m(\u001b[0m\u001b[0mboard\u001b[0m\u001b[1;33m)\u001b[0m\u001b[1;33m.\u001b[0m\u001b[0mall_return\u001b[0m\u001b[1;33m(\u001b[0m\u001b[1;33m)\u001b[0m \u001b[1;33m==\u001b[0m \u001b[1;36m11\u001b[0m \u001b[1;33m:\u001b[0m\u001b[1;33m\u001b[0m\u001b[1;33m\u001b[0m\u001b[0m\n",
      "\u001b[1;32m<ipython-input-41-c6dcfb36d316>\u001b[0m in \u001b[0;36menter_move\u001b[1;34m()\u001b[0m\n\u001b[0;32m      2\u001b[0m \u001b[1;32mdef\u001b[0m \u001b[0menter_move\u001b[0m\u001b[1;33m(\u001b[0m\u001b[1;33m)\u001b[0m\u001b[1;33m:\u001b[0m\u001b[1;33m\u001b[0m\u001b[1;33m\u001b[0m\u001b[0m\n\u001b[0;32m      3\u001b[0m     \u001b[1;31m#user movement\u001b[0m\u001b[1;33m\u001b[0m\u001b[1;33m\u001b[0m\u001b[1;33m\u001b[0m\u001b[0m\n\u001b[1;32m----> 4\u001b[1;33m     \u001b[0muser_input\u001b[0m \u001b[1;33m=\u001b[0m \u001b[0mint\u001b[0m\u001b[1;33m(\u001b[0m\u001b[0minput\u001b[0m\u001b[1;33m(\u001b[0m\u001b[1;34m'Enter your move : '\u001b[0m\u001b[1;33m)\u001b[0m\u001b[1;33m)\u001b[0m\u001b[1;33m\u001b[0m\u001b[1;33m\u001b[0m\u001b[0m\n\u001b[0m\u001b[0;32m      5\u001b[0m     \u001b[1;32mwhile\u001b[0m \u001b[0muser_input\u001b[0m \u001b[1;32mnot\u001b[0m \u001b[1;32min\u001b[0m \u001b[0mavaible_row\u001b[0m \u001b[1;33m:\u001b[0m\u001b[1;33m\u001b[0m\u001b[1;33m\u001b[0m\u001b[0m\n\u001b[0;32m      6\u001b[0m         \u001b[0mprint\u001b[0m\u001b[1;33m(\u001b[0m\u001b[1;34m'Your input already choosen, please select other ...'\u001b[0m\u001b[1;33m)\u001b[0m\u001b[1;33m\u001b[0m\u001b[1;33m\u001b[0m\u001b[0m\n",
      "\u001b[1;32m~\\anaconda3\\lib\\site-packages\\ipykernel\\kernelbase.py\u001b[0m in \u001b[0;36mraw_input\u001b[1;34m(self, prompt)\u001b[0m\n\u001b[0;32m    858\u001b[0m                 \u001b[1;34m\"raw_input was called, but this frontend does not support input requests.\"\u001b[0m\u001b[1;33m\u001b[0m\u001b[1;33m\u001b[0m\u001b[0m\n\u001b[0;32m    859\u001b[0m             )\n\u001b[1;32m--> 860\u001b[1;33m         return self._input_request(str(prompt),\n\u001b[0m\u001b[0;32m    861\u001b[0m             \u001b[0mself\u001b[0m\u001b[1;33m.\u001b[0m\u001b[0m_parent_ident\u001b[0m\u001b[1;33m,\u001b[0m\u001b[1;33m\u001b[0m\u001b[1;33m\u001b[0m\u001b[0m\n\u001b[0;32m    862\u001b[0m             \u001b[0mself\u001b[0m\u001b[1;33m.\u001b[0m\u001b[0m_parent_header\u001b[0m\u001b[1;33m,\u001b[0m\u001b[1;33m\u001b[0m\u001b[1;33m\u001b[0m\u001b[0m\n",
      "\u001b[1;32m~\\anaconda3\\lib\\site-packages\\ipykernel\\kernelbase.py\u001b[0m in \u001b[0;36m_input_request\u001b[1;34m(self, prompt, ident, parent, password)\u001b[0m\n\u001b[0;32m    902\u001b[0m             \u001b[1;32mexcept\u001b[0m \u001b[0mKeyboardInterrupt\u001b[0m\u001b[1;33m:\u001b[0m\u001b[1;33m\u001b[0m\u001b[1;33m\u001b[0m\u001b[0m\n\u001b[0;32m    903\u001b[0m                 \u001b[1;31m# re-raise KeyboardInterrupt, to truncate traceback\u001b[0m\u001b[1;33m\u001b[0m\u001b[1;33m\u001b[0m\u001b[1;33m\u001b[0m\u001b[0m\n\u001b[1;32m--> 904\u001b[1;33m                 \u001b[1;32mraise\u001b[0m \u001b[0mKeyboardInterrupt\u001b[0m\u001b[1;33m(\u001b[0m\u001b[1;34m\"Interrupted by user\"\u001b[0m\u001b[1;33m)\u001b[0m \u001b[1;32mfrom\u001b[0m \u001b[1;32mNone\u001b[0m\u001b[1;33m\u001b[0m\u001b[1;33m\u001b[0m\u001b[0m\n\u001b[0m\u001b[0;32m    905\u001b[0m             \u001b[1;32mexcept\u001b[0m \u001b[0mException\u001b[0m \u001b[1;32mas\u001b[0m \u001b[0me\u001b[0m\u001b[1;33m:\u001b[0m\u001b[1;33m\u001b[0m\u001b[1;33m\u001b[0m\u001b[0m\n\u001b[0;32m    906\u001b[0m                 \u001b[0mself\u001b[0m\u001b[1;33m.\u001b[0m\u001b[0mlog\u001b[0m\u001b[1;33m.\u001b[0m\u001b[0mwarning\u001b[0m\u001b[1;33m(\u001b[0m\u001b[1;34m\"Invalid Message:\"\u001b[0m\u001b[1;33m,\u001b[0m \u001b[0mexc_info\u001b[0m\u001b[1;33m=\u001b[0m\u001b[1;32mTrue\u001b[0m\u001b[1;33m)\u001b[0m\u001b[1;33m\u001b[0m\u001b[1;33m\u001b[0m\u001b[0m\n",
      "\u001b[1;31mKeyboardInterrupt\u001b[0m: Interrupted by user"
     ]
    }
   ],
   "source": [
    "game_start()"
   ]
  },
  {
   "cell_type": "code",
   "execution_count": 43,
   "id": "b3a082d6",
   "metadata": {},
   "outputs": [],
   "source": [
    "board = np.array([['1', '2', '3'], \n",
    "                 ['4', 'X', '6'],\n",
    "                ['7', '8', '9']])\n",
    "avaible_row = [1, 2, 3, 4, 'Not Avaible', 6, 7, 8, 9]"
   ]
  },
  {
   "cell_type": "code",
   "execution_count": null,
   "id": "c505e45c",
   "metadata": {},
   "outputs": [],
   "source": []
  }
 ],
 "metadata": {
  "kernelspec": {
   "display_name": "Python 3",
   "language": "python",
   "name": "python3"
  },
  "language_info": {
   "codemirror_mode": {
    "name": "ipython",
    "version": 3
   },
   "file_extension": ".py",
   "mimetype": "text/x-python",
   "name": "python",
   "nbconvert_exporter": "python",
   "pygments_lexer": "ipython3",
   "version": "3.8.8"
  }
 },
 "nbformat": 4,
 "nbformat_minor": 5
}
